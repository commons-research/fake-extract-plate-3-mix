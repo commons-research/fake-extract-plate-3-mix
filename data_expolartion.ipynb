{
 "cells": [
  {
   "cell_type": "code",
   "execution_count": 33,
   "id": "a279b27b",
   "metadata": {},
   "outputs": [],
   "source": [
    "import pandas as pd\n",
    "import polars as pl"
   ]
  },
  {
   "cell_type": "code",
   "execution_count": 34,
   "id": "aa54cc21",
   "metadata": {},
   "outputs": [],
   "source": [
    "df_tito_corrected_pos = pl.scan_csv(\n",
    "    \"data/pos/tito_mzbatch_corrected_quant_full.csv\"\n",
    ").collect()"
   ]
  },
  {
   "cell_type": "code",
   "execution_count": 35,
   "id": "0e6ab4a8",
   "metadata": {},
   "outputs": [],
   "source": [
    "pos_mol = df_tito_corrected_pos[\"compound_db_identity:compound_name\"].unique()"
   ]
  },
  {
   "cell_type": "code",
   "execution_count": 36,
   "id": "f0aaedeb",
   "metadata": {},
   "outputs": [],
   "source": [
    "df_tito_corrected_neg = pl.scan_csv(\n",
    "    \"data/neg/tito_mzbatch_corrected_quant_full.csv\"\n",
    ").collect()"
   ]
  },
  {
   "cell_type": "code",
   "execution_count": 37,
   "id": "5d79efb8",
   "metadata": {},
   "outputs": [],
   "source": [
    "neg_mol = df_tito_corrected_neg[\"compound_db_identity:compound_name\"].unique()"
   ]
  },
  {
   "cell_type": "code",
   "execution_count": 38,
   "id": "dbce14a8",
   "metadata": {},
   "outputs": [],
   "source": [
    "targets = pl.scan_csv(\"plate_3_targets.csv\").collect()"
   ]
  },
  {
   "cell_type": "code",
   "execution_count": 39,
   "id": "30813907",
   "metadata": {},
   "outputs": [
    {
     "data": {
      "text/html": [
       "<div><style>\n",
       ".dataframe > thead > tr,\n",
       ".dataframe > tbody > tr {\n",
       "  text-align: right;\n",
       "  white-space: pre-wrap;\n",
       "}\n",
       "</style>\n",
       "<small>shape: (89, 6)</small><table border=\"1\" class=\"dataframe\"><thead><tr><th>name</th><th>neutral mass</th><th>formula</th><th>rt</th><th>pubchem_id</th><th>smiles</th></tr><tr><td>str</td><td>f64</td><td>str</td><td>i64</td><td>i64</td><td>str</td></tr></thead><tbody><tr><td>&quot;Abscisic Acid (Dormin)&quot;</td><td>264.136159</td><td>&quot;C15H20O4&quot;</td><td>0</td><td>287291</td><td>&quot;CC(C=CC1(O)C(C)=CC(=O)CC1(C)C)…</td></tr><tr><td>&quot;(-)-epicatechin&quot;</td><td>290.079038</td><td>&quot;C15H14O6&quot;</td><td>0</td><td>72276</td><td>&quot;Oc1cc(O)c2c(c1)OC(c1ccc(O)c(O)…</td></tr><tr><td>&quot;(-)-epicatechin gallate&quot;</td><td>442.089997</td><td>&quot;C22H18O10&quot;</td><td>0</td><td>107905</td><td>&quot;O=C(OC1Cc2c(O)cc(O)cc2OC1c1ccc…</td></tr><tr><td>&quot;Picrotoxin_0&quot;</td><td>292.094688</td><td>&quot;C15H16O6&quot;</td><td>0</td><td>31306</td><td>&quot;C=C(C)C1C2OC(=O)C1C1(O)CC3OC34…</td></tr><tr><td>&quot;Picrotoxin_1&quot;</td><td>310.105253</td><td>&quot;C15H18O7&quot;</td><td>0</td><td>3032291</td><td>&quot;CC(C)(O)C1C2OC(=O)C1C1(O)CC3OC…</td></tr><tr><td>&hellip;</td><td>&hellip;</td><td>&hellip;</td><td>&hellip;</td><td>&hellip;</td><td>&hellip;</td></tr><tr><td>&quot;Mulberroside A&quot;</td><td>568.179206</td><td>&quot;C26H32O14&quot;</td><td>0</td><td>6443484</td><td>&quot;OCC1OC(Oc2cc(O)cc(C=Cc3ccc(OC4…</td></tr><tr><td>&quot;Dehydrodiisoeugenol&quot;</td><td>326.151809</td><td>&quot;C20H22O4&quot;</td><td>0</td><td>5379033</td><td>&quot;CC=Cc1cc(OC)c2c(c1)C(C)C(c1ccc…</td></tr><tr><td>&quot;Hydroxysafflor yellow A&quot;</td><td>612.169035</td><td>&quot;C27H32O16&quot;</td><td>0</td><td>75296842</td><td>&quot;O=C(C=Cc1ccc(O)cc1)C1C(=O)C(C2…</td></tr><tr><td>&quot;Sec-O-Glucosylhamaudol&quot;</td><td>438.152597</td><td>&quot;C21H26O10&quot;</td><td>0</td><td>10478277</td><td>&quot;Cc1cc(=O)c2c(O)c3c(cc2o1)OC(C)…</td></tr><tr><td>&quot;Betulinaldehyde&quot;</td><td>440.365431</td><td>&quot;C30H48O2&quot;</td><td>0</td><td>99615</td><td>&quot;C=C(C)C1CCC2(C=O)CCC3(C)C(CCC4…</td></tr></tbody></table></div>"
      ],
      "text/plain": [
       "shape: (89, 6)\n",
       "┌─────────────────────────┬──────────────┬───────────┬─────┬────────────┬──────────────────────────┐\n",
       "│ name                    ┆ neutral mass ┆ formula   ┆ rt  ┆ pubchem_id ┆ smiles                   │\n",
       "│ ---                     ┆ ---          ┆ ---       ┆ --- ┆ ---        ┆ ---                      │\n",
       "│ str                     ┆ f64          ┆ str       ┆ i64 ┆ i64        ┆ str                      │\n",
       "╞═════════════════════════╪══════════════╪═══════════╪═════╪════════════╪══════════════════════════╡\n",
       "│ Abscisic Acid (Dormin)  ┆ 264.136159   ┆ C15H20O4  ┆ 0   ┆ 287291     ┆ CC(C=CC1(O)C(C)=CC(=O)CC │\n",
       "│                         ┆              ┆           ┆     ┆            ┆ 1(C)C)…                  │\n",
       "│ (-)-epicatechin         ┆ 290.079038   ┆ C15H14O6  ┆ 0   ┆ 72276      ┆ Oc1cc(O)c2c(c1)OC(c1ccc( │\n",
       "│                         ┆              ┆           ┆     ┆            ┆ O)c(O)…                  │\n",
       "│ (-)-epicatechin gallate ┆ 442.089997   ┆ C22H18O10 ┆ 0   ┆ 107905     ┆ O=C(OC1Cc2c(O)cc(O)cc2OC │\n",
       "│                         ┆              ┆           ┆     ┆            ┆ 1c1ccc…                  │\n",
       "│ Picrotoxin_0            ┆ 292.094688   ┆ C15H16O6  ┆ 0   ┆ 31306      ┆ C=C(C)C1C2OC(=O)C1C1(O)C │\n",
       "│                         ┆              ┆           ┆     ┆            ┆ C3OC34…                  │\n",
       "│ Picrotoxin_1            ┆ 310.105253   ┆ C15H18O7  ┆ 0   ┆ 3032291    ┆ CC(C)(O)C1C2OC(=O)C1C1(O │\n",
       "│                         ┆              ┆           ┆     ┆            ┆ )CC3OC…                  │\n",
       "│ …                       ┆ …            ┆ …         ┆ …   ┆ …          ┆ …                        │\n",
       "│ Mulberroside A          ┆ 568.179206   ┆ C26H32O14 ┆ 0   ┆ 6443484    ┆ OCC1OC(Oc2cc(O)cc(C=Cc3c │\n",
       "│                         ┆              ┆           ┆     ┆            ┆ cc(OC4…                  │\n",
       "│ Dehydrodiisoeugenol     ┆ 326.151809   ┆ C20H22O4  ┆ 0   ┆ 5379033    ┆ CC=Cc1cc(OC)c2c(c1)C(C)C │\n",
       "│                         ┆              ┆           ┆     ┆            ┆ (c1ccc…                  │\n",
       "│ Hydroxysafflor yellow A ┆ 612.169035   ┆ C27H32O16 ┆ 0   ┆ 75296842   ┆ O=C(C=Cc1ccc(O)cc1)C1C(= │\n",
       "│                         ┆              ┆           ┆     ┆            ┆ O)C(C2…                  │\n",
       "│ Sec-O-Glucosylhamaudol  ┆ 438.152597   ┆ C21H26O10 ┆ 0   ┆ 10478277   ┆ Cc1cc(=O)c2c(O)c3c(cc2o1 │\n",
       "│                         ┆              ┆           ┆     ┆            ┆ )OC(C)…                  │\n",
       "│ Betulinaldehyde         ┆ 440.365431   ┆ C30H48O2  ┆ 0   ┆ 99615      ┆ C=C(C)C1CCC2(C=O)CCC3(C) │\n",
       "│                         ┆              ┆           ┆     ┆            ┆ C(CCC4…                  │\n",
       "└─────────────────────────┴──────────────┴───────────┴─────┴────────────┴──────────────────────────┘"
      ]
     },
     "execution_count": 39,
     "metadata": {},
     "output_type": "execute_result"
    }
   ],
   "source": [
    "targets"
   ]
  },
  {
   "cell_type": "code",
   "execution_count": 40,
   "id": "95d1cd5e",
   "metadata": {},
   "outputs": [
    {
     "name": "stderr",
     "output_type": "stream",
     "text": [
      "/var/folders/ll/v9q3qnpx27d8g0shfnvjnslrfgd6wf/T/ipykernel_35650/3694730745.py:4: DeprecationWarning: `is_in` with a collection of the same datatype is ambiguous and deprecated.\n",
      "Please use `implode` to return to previous behavior.\n",
      "\n",
      "See https://github.com/pola-rs/polars/issues/22149 for more information.\n",
      "  \"detected_pos\": targets[\"name\"].is_in(pos_mol).to_list(),\n",
      "/var/folders/ll/v9q3qnpx27d8g0shfnvjnslrfgd6wf/T/ipykernel_35650/3694730745.py:5: DeprecationWarning: `is_in` with a collection of the same datatype is ambiguous and deprecated.\n",
      "Please use `implode` to return to previous behavior.\n",
      "\n",
      "See https://github.com/pola-rs/polars/issues/22149 for more information.\n",
      "  \"detected_neg\": targets[\"name\"].is_in(neg_mol).to_list(),\n"
     ]
    }
   ],
   "source": [
    "results = pl.DataFrame(\n",
    "    {\n",
    "        \"name\": targets[\"name\"].to_list(),\n",
    "        \"detected_pos\": targets[\"name\"].is_in(pos_mol).to_list(),\n",
    "        \"detected_neg\": targets[\"name\"].is_in(neg_mol).to_list(),\n",
    "    }\n",
    ").sort(\"name\")\n",
    "\n",
    "results.write_csv(\"plate_3_targets_detected.csv\")"
   ]
  },
  {
   "cell_type": "code",
   "execution_count": 41,
   "id": "c6f84757",
   "metadata": {},
   "outputs": [
    {
     "data": {
      "image/png": "[encoded data removed]",
      "text/plain": [
       "<Figure size 640x480 with 1 Axes>"
      ]
     },
     "metadata": {},
     "output_type": "display_data"
    }
   ],
   "source": [
    "import matplotlib.pyplot as plt\n",
    "from matplotlib_venn import venn2\n",
    "\n",
    "# Convert polars.Series to Python sets for intersection\n",
    "pos_set = set(pos_mol.to_list())\n",
    "neg_set = set(neg_mol.to_list())\n",
    "combinations = len(pos_set & neg_set)\n",
    "\n",
    "venn2(\n",
    "    subsets=(\n",
    "        len(pos_set) - combinations,\n",
    "        len(neg_set) - combinations,\n",
    "        len(pos_set & neg_set),\n",
    "    ),\n",
    "    set_labels=(\"Positive Mode\", \"Negative Mode\"),\n",
    ")\n",
    "plt.show()"
   ]
  },
  {
   "cell_type": "code",
   "execution_count": 42,
   "id": "f6e467a2",
   "metadata": {},
   "outputs": [
    {
     "data": {
      "text/html": [
       "<div><style>\n",
       ".dataframe > thead > tr,\n",
       ".dataframe > tbody > tr {\n",
       "  text-align: right;\n",
       "  white-space: pre-wrap;\n",
       "}\n",
       "</style>\n",
       "<small>shape: (29, 3)</small><table border=\"1\" class=\"dataframe\"><thead><tr><th>name</th><th>detected_pos</th><th>detected_neg</th></tr><tr><td>str</td><td>bool</td><td>bool</td></tr></thead><tbody><tr><td>&quot;7,8-Dihydroxyflavone&quot;</td><td>true</td><td>true</td></tr><tr><td>&quot;Abscisic Acid (Dormin)&quot;</td><td>true</td><td>true</td></tr><tr><td>&quot;Alibiflorin&quot;</td><td>true</td><td>true</td></tr><tr><td>&quot;Asiatic acid&quot;</td><td>true</td><td>true</td></tr><tr><td>&quot;Asperosaponin Ⅵ&quot;</td><td>true</td><td>true</td></tr><tr><td>&hellip;</td><td>&hellip;</td><td>&hellip;</td></tr><tr><td>&quot;Sec-O-Glucosylhamaudol&quot;</td><td>true</td><td>true</td></tr><tr><td>&quot;Syringin&quot;</td><td>true</td><td>true</td></tr><tr><td>&quot;Troxerutin&quot;</td><td>true</td><td>true</td></tr><tr><td>&quot;Typhaneoside&quot;</td><td>true</td><td>true</td></tr><tr><td>&quot;Vitexicarpin&quot;</td><td>true</td><td>true</td></tr></tbody></table></div>"
      ],
      "text/plain": [
       "shape: (29, 3)\n",
       "┌────────────────────────┬──────────────┬──────────────┐\n",
       "│ name                   ┆ detected_pos ┆ detected_neg │\n",
       "│ ---                    ┆ ---          ┆ ---          │\n",
       "│ str                    ┆ bool         ┆ bool         │\n",
       "╞════════════════════════╪══════════════╪══════════════╡\n",
       "│ 7,8-Dihydroxyflavone   ┆ true         ┆ true         │\n",
       "│ Abscisic Acid (Dormin) ┆ true         ┆ true         │\n",
       "│ Alibiflorin            ┆ true         ┆ true         │\n",
       "│ Asiatic acid           ┆ true         ┆ true         │\n",
       "│ Asperosaponin Ⅵ        ┆ true         ┆ true         │\n",
       "│ …                      ┆ …            ┆ …            │\n",
       "│ Sec-O-Glucosylhamaudol ┆ true         ┆ true         │\n",
       "│ Syringin               ┆ true         ┆ true         │\n",
       "│ Troxerutin             ┆ true         ┆ true         │\n",
       "│ Typhaneoside           ┆ true         ┆ true         │\n",
       "│ Vitexicarpin           ┆ true         ┆ true         │\n",
       "└────────────────────────┴──────────────┴──────────────┘"
      ]
     },
     "execution_count": 42,
     "metadata": {},
     "output_type": "execute_result"
    }
   ],
   "source": [
    "results.filter(pl.col(\"detected_pos\") == True, pl.col(\"detected_neg\") == True)"
   ]
  },
  {
   "cell_type": "code",
   "execution_count": 43,
   "id": "30941f63",
   "metadata": {},
   "outputs": [
    {
     "data": {
      "text/html": [
       "<div><style>\n",
       ".dataframe > thead > tr,\n",
       ".dataframe > tbody > tr {\n",
       "  text-align: right;\n",
       "  white-space: pre-wrap;\n",
       "}\n",
       "</style>\n",
       "<small>shape: (105, 60)</small><table border=\"1\" class=\"dataframe\"><thead><tr><th>id</th><th>rt</th><th>rt_range:min</th><th>rt_range:max</th><th>mz</th><th>mz_range:min</th><th>mz_range:max</th><th>height</th><th>area</th><th>intensity_range:min</th><th>intensity_range:max</th><th>fragment_scans</th><th>charge</th><th>compound_db_identity:compound_db_identity</th><th>compound_db_identity:compound_name</th><th>compound_db_identity:compound_annotation_score</th><th>compound_db_identity:mol_formula</th><th>compound_db_identity:adduct</th><th>compound_db_identity:smiles</th><th>compound_db_identity:precursor_mz</th><th>compound_db_identity:mz_diff_ppm</th><th>compound_db_identity:mz_diff</th><th>compound_db_identity:neutral_mass</th><th>compound_db_identity:isotope_pattern_score</th><th>compound_db_identity:database_name</th><th>alignment_scores:rate</th><th>alignment_scores:aligned_features_n</th><th>alignment_scores:align_extra_features</th><th>alignment_scores:weighted_distance_score</th><th>alignment_scores:mz_diff_ppm</th><th>alignment_scores:mz_diff</th><th>alignment_scores:rt_absolute_error</th><th>alignment_scores:ion_mobility_absolute_error</th><th>feature_group</th><th>ion_identities:iin_id</th><th>ion_identities:ion_identities</th><th>ion_identities:list_size</th><th>ion_identities:neutral_mass</th><th>ion_identities:partner_row_ids</th><th>ion_identities:iin_relationship</th><th>ion_identities:consensus_formulas</th><th>ion_identities:simple_formulas</th><th>datafile:202505131015_CVOL_CVOL_Jade_QC_neg_10micro.mzML:feature_state</th><th>datafile:202505131015_CVOL_CVOL_Jade_QC_neg_10micro.mzML:mz</th><th>datafile:202505131015_CVOL_CVOL_Jade_QC_neg_10micro.mzML:mz_range:min</th><th>datafile:202505131015_CVOL_CVOL_Jade_QC_neg_10micro.mzML:mz_range:max</th><th>datafile:202505131015_CVOL_CVOL_Jade_QC_neg_10micro.mzML:rt</th><th>datafile:202505131015_CVOL_CVOL_Jade_QC_neg_10micro.mzML:rt_range:min</th><th>datafile:202505131015_CVOL_CVOL_Jade_QC_neg_10micro.mzML:rt_range:max</th><th>datafile:202505131015_CVOL_CVOL_Jade_QC_neg_10micro.mzML:height</th><th>datafile:202505131015_CVOL_CVOL_Jade_QC_neg_10micro.mzML:area</th><th>datafile:202505131015_CVOL_CVOL_Jade_QC_neg_10micro.mzML:intensity_range:min</th><th>datafile:202505131015_CVOL_CVOL_Jade_QC_neg_10micro.mzML:intensity_range:max</th><th>datafile:202505131015_CVOL_CVOL_Jade_QC_neg_10micro.mzML:fwhm</th><th>datafile:202505131015_CVOL_CVOL_Jade_QC_neg_10micro.mzML:tailing_factor</th><th>datafile:202505131015_CVOL_CVOL_Jade_QC_neg_10micro.mzML:asymmetry_factor</th><th>datafile:202505131015_CVOL_CVOL_Jade_QC_neg_10micro.mzML:fragment_scans</th><th>datafile:202505131015_CVOL_CVOL_Jade_QC_neg_10micro.mzML:rt_ms2_apex_distance</th><th>datafile:202505131015_CVOL_CVOL_Jade_QC_neg_10micro.mzML:isotopes</th><th>datafile:202505131015_CVOL_CVOL_Jade_QC_neg_10micro.mzML:charge</th></tr><tr><td>i64</td><td>f64</td><td>f64</td><td>f64</td><td>f64</td><td>f64</td><td>f64</td><td>f64</td><td>f64</td><td>f64</td><td>f64</td><td>i64</td><td>i64</td><td>str</td><td>str</td><td>f64</td><td>str</td><td>str</td><td>str</td><td>f64</td><td>f64</td><td>f64</td><td>f64</td><td>f64</td><td>str</td><td>i64</td><td>i64</td><td>i64</td><td>i64</td><td>i64</td><td>i64</td><td>i64</td><td>i64</td><td>i64</td><td>i64</td><td>str</td><td>i64</td><td>f64</td><td>str</td><td>str</td><td>str</td><td>str</td><td>str</td><td>f64</td><td>f64</td><td>f64</td><td>f64</td><td>f64</td><td>f64</td><td>f64</td><td>f64</td><td>f64</td><td>f64</td><td>f64</td><td>f64</td><td>f64</td><td>i64</td><td>f64</td><td>i64</td><td>i64</td></tr></thead><tbody><tr><td>136</td><td>0.435</td><td>0.41</td><td>0.6715</td><td>341.10909</td><td>341.10873</td><td>341.10983</td><td>2.894e6</td><td>138300.0</td><td>51740.0</td><td>2.894e6</td><td>0</td><td>1</td><td>&quot;Cellobiose: [M-H]-: 0.954&quot;</td><td>&quot;Cellobiose&quot;</td><td>0.954</td><td>&quot;C12H22O11&quot;</td><td>&quot;[M-H]-&quot;</td><td>&quot;OCC1OC(OC2C(CO)OC(O)C(O)C2O)C(…</td><td>341.10894</td><td>0.46</td><td>0.00016</td><td>342.11621</td><td>0.797</td><td>&quot;plate_3_targets.csv&quot;</td><td>1</td><td>1</td><td>0</td><td>1</td><td>0</td><td>0</td><td>0</td><td>0</td><td>2</td><td>0</td><td>&quot;[M-H]-&quot;</td><td>3</td><td>342.11629</td><td>&quot;136;154;137&quot;</td><td>null</td><td>null</td><td>null</td><td>&quot;DETECTED&quot;</td><td>341.10909</td><td>341.10873</td><td>341.10983</td><td>0.435</td><td>0.41</td><td>0.6715</td><td>2.894e6</td><td>138300.0</td><td>51740.0</td><td>2.894e6</td><td>0.0329</td><td>3.264</td><td>2.979</td><td>null</td><td>null</td><td>3</td><td>1</td></tr><tr><td>137</td><td>0.435</td><td>0.41</td><td>0.688</td><td>387.11444</td><td>387.11417</td><td>387.1152</td><td>1.687e7</td><td>760200.0</td><td>122200.0</td><td>1.687e7</td><td>1</td><td>1</td><td>&quot;Cellobiose: [M+FA]-: 0.994&quot;</td><td>&quot;Cellobiose&quot;</td><td>0.994</td><td>&quot;C12H22O11&quot;</td><td>&quot;[M+FA]-&quot;</td><td>&quot;OCC1OC(OC2C(CO)OC(O)C(O)C2O)C(…</td><td>387.11441</td><td>0.06</td><td>0.00002</td><td>342.11621</td><td>0.852</td><td>&quot;plate_3_targets.csv&quot;</td><td>1</td><td>1</td><td>0</td><td>1</td><td>0</td><td>0</td><td>0</td><td>0</td><td>2</td><td>0</td><td>&quot;[M+FA]-&quot;</td><td>3</td><td>342.11629</td><td>&quot;136;154;137&quot;</td><td>null</td><td>null</td><td>null</td><td>&quot;DETECTED&quot;</td><td>387.11444</td><td>387.11417</td><td>387.1152</td><td>0.435</td><td>0.41</td><td>0.688</td><td>1.687e7</td><td>760200.0</td><td>122200.0</td><td>1.687e7</td><td>0.0316</td><td>3.8609</td><td>2.3176</td><td>1</td><td>-0.0031</td><td>5</td><td>1</td></tr><tr><td>154</td><td>0.4431</td><td>0.41</td><td>0.6797</td><td>377.08566</td><td>377.08545</td><td>377.08606</td><td>1.675e7</td><td>1.083e6</td><td>160400.0</td><td>1.675e7</td><td>4</td><td>1</td><td>&quot;Cellobiose: [M+Cl]-: 0.988&quot;</td><td>&quot;Cellobiose&quot;</td><td>0.988</td><td>&quot;C12H22O11&quot;</td><td>&quot;[M+Cl]-&quot;</td><td>&quot;OCC1OC(OC2C(CO)OC(O)C(O)C2O)C(…</td><td>377.08561</td><td>0.12</td><td>0.00004</td><td>342.11621</td><td>0.865</td><td>&quot;plate_3_targets.csv&quot;</td><td>1</td><td>1</td><td>0</td><td>1</td><td>0</td><td>0</td><td>0</td><td>0</td><td>2</td><td>0</td><td>&quot;[M+Cl]-&quot;</td><td>3</td><td>342.11629</td><td>&quot;136;154;137&quot;</td><td>null</td><td>null</td><td>null</td><td>&quot;DETECTED&quot;</td><td>377.08566</td><td>377.08545</td><td>377.08606</td><td>0.4431</td><td>0.41</td><td>0.6797</td><td>1.675e7</td><td>1.083e6</td><td>160400.0</td><td>1.675e7</td><td>0.0364</td><td>3.0248</td><td>3.6255</td><td>4</td><td>-0.0124</td><td>5</td><td>1</td></tr><tr><td>801</td><td>1.3342</td><td>1.2593</td><td>1.3757</td><td>280.10538</td><td>280.10526</td><td>280.10571</td><td>367900.0</td><td>24940.0</td><td>46310.0</td><td>367900.0</td><td>0</td><td>null</td><td>&quot;N6-methyladenosine (m6A): [M-H…</td><td>&quot;N6-methyladenosine (m6A)&quot;</td><td>0.911</td><td>&quot;C11H15N5O4&quot;</td><td>&quot;[M-H]-&quot;</td><td>&quot;CN=c1[nH]cnc2c1ncn2C1OC(CO)C(O…</td><td>280.10513</td><td>0.89</td><td>0.00025</td><td>281.1124</td><td>0.641</td><td>&quot;plate_3_targets.csv&quot;</td><td>1</td><td>1</td><td>0</td><td>1</td><td>0</td><td>0</td><td>0</td><td>0</td><td>3</td><td>1</td><td>&quot;[M-H]-&quot;</td><td>3</td><td>281.11251</td><td>&quot;801;802;811&quot;</td><td>null</td><td>null</td><td>null</td><td>&quot;DETECTED&quot;</td><td>280.10538</td><td>280.10526</td><td>280.10571</td><td>1.3342</td><td>1.2593</td><td>1.3757</td><td>367900.0</td><td>24940.0</td><td>46310.0</td><td>367900.0</td><td>0.0708</td><td>0.7773</td><td>0.6061</td><td>null</td><td>null</td><td>null</td><td>null</td></tr><tr><td>802</td><td>1.3342</td><td>1.2092</td><td>1.4256</td><td>326.11073</td><td>326.11053</td><td>326.11127</td><td>8.659e6</td><td>617000.0</td><td>37910.0</td><td>8.659e6</td><td>3</td><td>1</td><td>&quot;N6-methyladenosine (m6A): [M+F…</td><td>&quot;N6-methyladenosine (m6A)&quot;</td><td>0.964</td><td>&quot;C11H15N5O4&quot;</td><td>&quot;[M+FA]-&quot;</td><td>&quot;CN=c1[nH]cnc2c1ncn2C1OC(CO)C(O…</td><td>326.11061</td><td>0.36</td><td>0.00012</td><td>281.1124</td><td>0.784</td><td>&quot;plate_3_targets.csv&quot;</td><td>1</td><td>1</td><td>0</td><td>1</td><td>0</td><td>0</td><td>0</td><td>0</td><td>3</td><td>1</td><td>&quot;[M+FA]-&quot;</td><td>3</td><td>281.11251</td><td>&quot;801;802;811&quot;</td><td>null</td><td>null</td><td>null</td><td>&quot;DETECTED&quot;</td><td>326.11073</td><td>326.11053</td><td>326.11127</td><td>1.3342</td><td>1.2092</td><td>1.4256</td><td>8.659e6</td><td>617000.0</td><td>37910.0</td><td>8.659e6</td><td>0.0687</td><td>0.8002</td><td>0.614</td><td>3</td><td>-0.0532</td><td>3</td><td>1</td></tr><tr><td>&hellip;</td><td>&hellip;</td><td>&hellip;</td><td>&hellip;</td><td>&hellip;</td><td>&hellip;</td><td>&hellip;</td><td>&hellip;</td><td>&hellip;</td><td>&hellip;</td><td>&hellip;</td><td>&hellip;</td><td>&hellip;</td><td>&hellip;</td><td>&hellip;</td><td>&hellip;</td><td>&hellip;</td><td>&hellip;</td><td>&hellip;</td><td>&hellip;</td><td>&hellip;</td><td>&hellip;</td><td>&hellip;</td><td>&hellip;</td><td>&hellip;</td><td>&hellip;</td><td>&hellip;</td><td>&hellip;</td><td>&hellip;</td><td>&hellip;</td><td>&hellip;</td><td>&hellip;</td><td>&hellip;</td><td>&hellip;</td><td>&hellip;</td><td>&hellip;</td><td>&hellip;</td><td>&hellip;</td><td>&hellip;</td><td>&hellip;</td><td>&hellip;</td><td>&hellip;</td><td>&hellip;</td><td>&hellip;</td><td>&hellip;</td><td>&hellip;</td><td>&hellip;</td><td>&hellip;</td><td>&hellip;</td><td>&hellip;</td><td>&hellip;</td><td>&hellip;</td><td>&hellip;</td><td>&hellip;</td><td>&hellip;</td><td>&hellip;</td><td>&hellip;</td><td>&hellip;</td><td>&hellip;</td><td>&hellip;</td></tr><tr><td>2681</td><td>6.3821</td><td>6.2927</td><td>6.4475</td><td>407.03349</td><td>407.03305</td><td>407.03406</td><td>419500.0</td><td>39570.0</td><td>152900.0</td><td>419500.0</td><td>0</td><td>1</td><td>&quot;Psoralen: [2M+Cl]-: 0.827&quot;</td><td>&quot;Psoralen&quot;</td><td>0.827</td><td>&quot;C11H6O3&quot;</td><td>&quot;[2M+Cl]-&quot;</td><td>&quot;O=c1ccc2cc3ccoc3cc2o1&quot;</td><td>407.03279</td><td>1.73</td><td>0.0007</td><td>186.03169</td><td>0.612</td><td>&quot;plate_3_targets.csv&quot;</td><td>1</td><td>1</td><td>0</td><td>1</td><td>0</td><td>0</td><td>0</td><td>0</td><td>43</td><td>36</td><td>&quot;[M-H]-&quot;</td><td>2</td><td>408.04013</td><td>&quot;2727;2681&quot;</td><td>null</td><td>null</td><td>null</td><td>&quot;DETECTED&quot;</td><td>407.03349</td><td>407.03305</td><td>407.03406</td><td>6.3821</td><td>6.2927</td><td>6.4475</td><td>419500.0</td><td>39570.0</td><td>152900.0</td><td>419500.0</td><td>0.1202</td><td>0.866</td><td>0.7321</td><td>null</td><td>null</td><td>29</td><td>1</td></tr><tr><td>2727</td><td>6.3821</td><td>6.2927</td><td>6.4475</td><td>453.03769</td><td>453.03738</td><td>453.03815</td><td>330400.0</td><td>30580.0</td><td>99350.0</td><td>330400.0</td><td>0</td><td>1</td><td>&quot;Geniposidic acid: [M+Br]-: 0.4…</td><td>&quot;Geniposidic acid&quot;</td><td>0.45</td><td>&quot;C16H22O10&quot;</td><td>&quot;[M+Br]-&quot;</td><td>&quot;O=C(O)C1=COC(OC2OC(CO)C(O)C(O)…</td><td>453.04018</td><td>-5.5</td><td>-0.00249</td><td>374.1213</td><td>0.664</td><td>&quot;plate_3_targets.csv&quot;</td><td>1</td><td>1</td><td>0</td><td>1</td><td>0</td><td>0</td><td>0</td><td>0</td><td>43</td><td>36</td><td>&quot;[M+FA]-&quot;</td><td>2</td><td>408.04013</td><td>&quot;2727;2681&quot;</td><td>null</td><td>null</td><td>null</td><td>&quot;DETECTED&quot;</td><td>453.03769</td><td>453.03738</td><td>453.03815</td><td>6.3821</td><td>6.2927</td><td>6.4475</td><td>330400.0</td><td>30580.0</td><td>99350.0</td><td>330400.0</td><td>0.0756</td><td>0.866</td><td>0.7321</td><td>null</td><td>null</td><td>23</td><td>1</td></tr><tr><td>3005</td><td>7.3943</td><td>7.3617</td><td>7.5859</td><td>515.33811</td><td>515.33789</td><td>515.3396</td><td>1.725e8</td><td>6.236e6</td><td>59770.0</td><td>1.725e8</td><td>4</td><td>1</td><td>&quot;Fusidic Acid (sodium salt): [M…</td><td>&quot;Fusidic Acid (sodium salt)&quot;</td><td>0.943</td><td>&quot;C31H48O6&quot;</td><td>&quot;[M-H]-&quot;</td><td>&quot;CC(=O)OC1=C(C(CCC=C(C)C)C(=O)O…</td><td>515.33781</td><td>0.57</td><td>0.0003</td><td>516.34509</td><td>0.868</td><td>&quot;plate_3_targets.csv&quot;</td><td>1</td><td>1</td><td>0</td><td>1</td><td>0</td><td>0</td><td>0</td><td>0</td><td>44</td><td>37</td><td>&quot;[M-H]-&quot;</td><td>3</td><td>516.34636</td><td>&quot;3005;3011&quot;</td><td>null</td><td>null</td><td>null</td><td>&quot;DETECTED&quot;</td><td>515.33811</td><td>515.33789</td><td>515.3396</td><td>7.3943</td><td>7.3617</td><td>7.5859</td><td>1.725e8</td><td>6.236e6</td><td>59770.0</td><td>1.725e8</td><td>0.0342</td><td>1.1095</td><td>1.3487</td><td>4</td><td>-0.0288</td><td>5</td><td>1</td></tr><tr><td>3011</td><td>7.3943</td><td>7.3617</td><td>7.5024</td><td>561.3443</td><td>561.34412</td><td>561.34515</td><td>1.58e7</td><td>558800.0</td><td>50940.0</td><td>1.58e7</td><td>2</td><td>1</td><td>&quot;Fusidic Acid (sodium salt): [M…</td><td>&quot;Fusidic Acid (sodium salt)&quot;</td><td>0.821</td><td>&quot;C31H48O6&quot;</td><td>&quot;[M+FA]-&quot;</td><td>&quot;CC(=O)OC1=C(C(CCC=C(C)C)C(=O)O…</td><td>561.34329</td><td>1.79</td><td>0.00101</td><td>516.34509</td><td>0.853</td><td>&quot;plate_3_targets.csv&quot;</td><td>1</td><td>1</td><td>0</td><td>1</td><td>0</td><td>0</td><td>0</td><td>0</td><td>44</td><td>37</td><td>&quot;[M+FA]-&quot;</td><td>3</td><td>516.34636</td><td>&quot;3005;3044;3011&quot;</td><td>null</td><td>null</td><td>null</td><td>&quot;DETECTED&quot;</td><td>561.3443</td><td>561.34412</td><td>561.34515</td><td>7.3943</td><td>7.3617</td><td>7.5024</td><td>1.58e7</td><td>558800.0</td><td>50940.0</td><td>1.58e7</td><td>0.0337</td><td>1.2538</td><td>1.3307</td><td>2</td><td>-0.0181</td><td>4</td><td>1</td></tr><tr><td>3044</td><td>7.3943</td><td>7.37</td><td>7.4269</td><td>1031.68794</td><td>1031.68481</td><td>1031.68835</td><td>5.688e6</td><td>169600.0</td><td>808100.0</td><td>5.688e6</td><td>1</td><td>1</td><td>&quot;Fusidic Acid (sodium salt): [2…</td><td>&quot;Fusidic Acid (sodium salt)&quot;</td><td>0.511</td><td>&quot;C31H48O6&quot;</td><td>&quot;[2M-H]-&quot;</td><td>&quot;CC(=O)OC1=C(C(CCC=C(C)C)C(=O)O…</td><td>1031.6829</td><td>4.89</td><td>0.00504</td><td>516.34509</td><td>0.832</td><td>&quot;plate_3_targets.csv&quot;</td><td>1</td><td>1</td><td>0</td><td>1</td><td>0</td><td>0</td><td>0</td><td>0</td><td>44</td><td>37</td><td>&quot;[2M-H]-&quot;</td><td>3</td><td>516.34636</td><td>&quot;3011;3044&quot;</td><td>null</td><td>null</td><td>null</td><td>&quot;DETECTED&quot;</td><td>1031.68794</td><td>1031.68481</td><td>1031.68835</td><td>7.3943</td><td>7.37</td><td>7.4269</td><td>5.688e6</td><td>169600.0</td><td>808100.0</td><td>5.688e6</td><td>0.0299</td><td>1.1705</td><td>1.0334</td><td>1</td><td>-0.0041</td><td>4</td><td>1</td></tr></tbody></table></div>"
      ],
      "text/plain": [
       "shape: (105, 60)\n",
       "┌──────┬────────┬─────────────┬────────────┬───┬────────────┬────────────┬────────────┬────────────┐\n",
       "│ id   ┆ rt     ┆ rt_range:mi ┆ rt_range:m ┆ … ┆ datafile:2 ┆ datafile:2 ┆ datafile:2 ┆ datafile:2 │\n",
       "│ ---  ┆ ---    ┆ n           ┆ ax         ┆   ┆ 0250513101 ┆ 0250513101 ┆ 0250513101 ┆ 0250513101 │\n",
       "│ i64  ┆ f64    ┆ ---         ┆ ---        ┆   ┆ 5_CVOL_CVO ┆ 5_CVOL_CVO ┆ 5_CVOL_CVO ┆ 5_CVOL_CVO │\n",
       "│      ┆        ┆ f64         ┆ f64        ┆   ┆ …          ┆ …          ┆ …          ┆ …          │\n",
       "│      ┆        ┆             ┆            ┆   ┆ ---        ┆ ---        ┆ ---        ┆ ---        │\n",
       "│      ┆        ┆             ┆            ┆   ┆ i64        ┆ f64        ┆ i64        ┆ i64        │\n",
       "╞══════╪════════╪═════════════╪════════════╪═══╪════════════╪════════════╪════════════╪════════════╡\n",
       "│ 136  ┆ 0.435  ┆ 0.41        ┆ 0.6715     ┆ … ┆ null       ┆ null       ┆ 3          ┆ 1          │\n",
       "│ 137  ┆ 0.435  ┆ 0.41        ┆ 0.688      ┆ … ┆ 1          ┆ -0.0031    ┆ 5          ┆ 1          │\n",
       "│ 154  ┆ 0.4431 ┆ 0.41        ┆ 0.6797     ┆ … ┆ 4          ┆ -0.0124    ┆ 5          ┆ 1          │\n",
       "│ 801  ┆ 1.3342 ┆ 1.2593      ┆ 1.3757     ┆ … ┆ null       ┆ null       ┆ null       ┆ null       │\n",
       "│ 802  ┆ 1.3342 ┆ 1.2092      ┆ 1.4256     ┆ … ┆ 3          ┆ -0.0532    ┆ 3          ┆ 1          │\n",
       "│ …    ┆ …      ┆ …           ┆ …          ┆ … ┆ …          ┆ …          ┆ …          ┆ …          │\n",
       "│ 2681 ┆ 6.3821 ┆ 6.2927      ┆ 6.4475     ┆ … ┆ null       ┆ null       ┆ 29         ┆ 1          │\n",
       "│ 2727 ┆ 6.3821 ┆ 6.2927      ┆ 6.4475     ┆ … ┆ null       ┆ null       ┆ 23         ┆ 1          │\n",
       "│ 3005 ┆ 7.3943 ┆ 7.3617      ┆ 7.5859     ┆ … ┆ 4          ┆ -0.0288    ┆ 5          ┆ 1          │\n",
       "│ 3011 ┆ 7.3943 ┆ 7.3617      ┆ 7.5024     ┆ … ┆ 2          ┆ -0.0181    ┆ 4          ┆ 1          │\n",
       "│ 3044 ┆ 7.3943 ┆ 7.37        ┆ 7.4269     ┆ … ┆ 1          ┆ -0.0041    ┆ 4          ┆ 1          │\n",
       "└──────┴────────┴─────────────┴────────────┴───┴────────────┴────────────┴────────────┴────────────┘"
      ]
     },
     "execution_count": 43,
     "metadata": {},
     "output_type": "execute_result"
    }
   ],
   "source": [
    "df_tito_corrected_neg"
   ]
  }
 ],
 "metadata": {
  "kernelspec": {
   "display_name": "fake-extract-plate-3-mix",
   "language": "python",
   "name": "python3"
  },
  "language_info": {
   "codemirror_mode": {
    "name": "ipython",
    "version": 3
   },
   "file_extension": ".py",
   "mimetype": "text/x-python",
   "name": "python",
   "nbconvert_exporter": "python",
   "pygments_lexer": "ipython3",
   "version": "3.10.15"
  }
 },
 "nbformat": 4,
 "nbformat_minor": 5
}
